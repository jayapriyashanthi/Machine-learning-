{
  "nbformat": 4,
  "nbformat_minor": 0,
  "metadata": {
    "colab": {
      "name": "basic program",
      "provenance": []
    },
    "kernelspec": {
      "name": "python3",
      "display_name": "Python 3"
    },
    "language_info": {
      "name": "python"
    }
  },
  "cells": [
    {
      "cell_type": "markdown",
      "source": [
        "print(\"hello world\")"
      ],
      "metadata": {
        "id": "Sq0qHvz7s9tZ"
      }
    },
    {
      "cell_type": "code",
      "source": [
        "a=6\n",
        "print(\"the type of\",type(a))\n",
        "b=6.98\n",
        "print(\"the type of\",type(b))\n",
        "c=1+3j\n",
        "print(\"type of c\",type(c))\n",
        "print(\"c is a complex no\",isinstance(1+3j,complex))"
      ],
      "metadata": {
        "colab": {
          "base_uri": "https://localhost:8080/"
        },
        "id": "Fywxwx3uuLr4",
        "outputId": "9fabce56-85c2-4770-a001-46f930cd16af"
      },
      "execution_count": 3,
      "outputs": [
        {
          "output_type": "stream",
          "name": "stdout",
          "text": [
            "the type of <class 'int'>\n",
            "the type of <class 'float'>\n",
            "type of c <class 'complex'>\n",
            "c is a complex no True\n"
          ]
        }
      ]
    },
    {
      "cell_type": "code",
      "source": [
        "str1='python learner'\n",
        "str2='how are you'\n",
        "print(str1[0:2])\n",
        "print(str1[4])\n",
        "print(str1*2)\n",
        "print(str1+str2)"
      ],
      "metadata": {
        "colab": {
          "base_uri": "https://localhost:8080/"
        },
        "id": "VkQRI59719zi",
        "outputId": "0aaf28b2-fe9f-4484-d4d0-a0c92fc9adbc"
      },
      "execution_count": 5,
      "outputs": [
        {
          "output_type": "stream",
          "name": "stdout",
          "text": [
            "py\n",
            "o\n",
            "python learnerpython learner\n",
            "python learnerhow are you\n"
          ]
        }
      ]
    },
    {
      "cell_type": "code",
      "source": [
        "list1=[1,\"hi\",\"python\",]\n",
        "list1.append(\"jp\")\n",
        "print(type(list1))\n",
        "print(list1)\n",
        "\n"
      ],
      "metadata": {
        "colab": {
          "base_uri": "https://localhost:8080/"
        },
        "id": "n8H5FIuB5aiZ",
        "outputId": "740cca3a-2d54-4b6c-cd3d-e723d176f9d2"
      },
      "execution_count": 7,
      "outputs": [
        {
          "output_type": "stream",
          "name": "stdout",
          "text": [
            "<class 'list'>\n",
            "[1, 'hi', 'python', 'jp']\n"
          ]
        }
      ]
    },
    {
      "cell_type": "code",
      "source": [
        "tup=(\"123\",\"asdf\",1)\n",
        "print(type(tup))\n",
        "print(tup)\n",
        "print(tup[1:])\n",
        "print(tup[0:1])\n",
        "print(tup+tup)\n",
        "print(tup*3)\n"
      ],
      "metadata": {
        "colab": {
          "base_uri": "https://localhost:8080/"
        },
        "id": "E0PYHUtr7qFb",
        "outputId": "097ff0b5-2763-4dcd-b868-ab8ae6e20af0"
      },
      "execution_count": 8,
      "outputs": [
        {
          "output_type": "stream",
          "name": "stdout",
          "text": [
            "<class 'tuple'>\n",
            "('123', 'asdf', 1)\n",
            "('asdf', 1)\n",
            "('123',)\n",
            "('123', 'asdf', 1, '123', 'asdf', 1)\n",
            "('123', 'asdf', 1, '123', 'asdf', 1, '123', 'asdf', 1)\n"
          ]
        }
      ]
    },
    {
      "cell_type": "code",
      "source": [
        "roll=[1,2,3,4,5,6,7]\n",
        "name=['j','k','l','m']\n",
        "data=list(zip(roll,name))"
      ],
      "metadata": {
        "id": "lENkcDP19GEX"
      },
      "execution_count": 10,
      "outputs": []
    },
    {
      "cell_type": "code",
      "source": [
        "print(data)"
      ],
      "metadata": {
        "colab": {
          "base_uri": "https://localhost:8080/"
        },
        "id": "_vNvlN4s-OXo",
        "outputId": "de796e41-9b23-4831-e964-163dff2b5357"
      },
      "execution_count": 11,
      "outputs": [
        {
          "output_type": "stream",
          "name": "stdout",
          "text": [
            "[(1, 'j'), (2, 'k'), (3, 'l'), (4, 'm')]\n"
          ]
        }
      ]
    },
    {
      "cell_type": "code",
      "source": [
        "d={101:'q',102:'r',103:'s',104:'t'}\n",
        "print(d)\n",
        "print(\"1st name is\"+d[101])\n",
        "print(\"2nd name is\"+d[102])\n",
        "print(d.keys())\n",
        "print(d.values())\n",
        "copied_dict=d.copy()\n",
        "print(copied_dict)"
      ],
      "metadata": {
        "colab": {
          "base_uri": "https://localhost:8080/"
        },
        "id": "T1Th0r4MJh4U",
        "outputId": "d64efd21-57ce-45a8-9f0f-182d1ef52556"
      },
      "execution_count": 12,
      "outputs": [
        {
          "output_type": "stream",
          "name": "stdout",
          "text": [
            "{101: 'q', 102: 'r', 103: 's', 104: 't'}\n",
            "1st name isq\n",
            "2nd name isr\n",
            "dict_keys([101, 102, 103, 104])\n",
            "dict_values(['q', 'r', 's', 't'])\n"
          ]
        }
      ]
    },
    {
      "cell_type": "code",
      "source": [
        "del d[103]"
      ],
      "metadata": {
        "id": "PxmP_DV6Mj44"
      },
      "execution_count": 13,
      "outputs": []
    },
    {
      "cell_type": "code",
      "source": [
        "d"
      ],
      "metadata": {
        "colab": {
          "base_uri": "https://localhost:8080/"
        },
        "id": "8TUPqfaeM5A-",
        "outputId": "96f9fbe2-ff5d-494a-eb71-1db6a624aedd"
      },
      "execution_count": 14,
      "outputs": [
        {
          "output_type": "execute_result",
          "data": {
            "text/plain": [
              "{101: 'q', 102: 'r', 104: 't'}"
            ]
          },
          "metadata": {},
          "execution_count": 14
        }
      ]
    },
    {
      "cell_type": "code",
      "source": [
        "print(type(True))\n",
        "print(type(False))\n",
        "print(False)"
      ],
      "metadata": {
        "colab": {
          "base_uri": "https://localhost:8080/"
        },
        "id": "SD8OmeUiM-AS",
        "outputId": "146cd2aa-171f-432e-e008-9f74181c4492"
      },
      "execution_count": 17,
      "outputs": [
        {
          "output_type": "stream",
          "name": "stdout",
          "text": [
            "<class 'bool'>\n",
            "<class 'bool'>\n",
            "False\n"
          ]
        }
      ]
    },
    {
      "cell_type": "code",
      "source": [
        "set1=set()\n",
        "set2={'j',2,3,'v','p',2,3}\n",
        "print(set2)\n",
        "set2.add(10)\n",
        "print(set2)\n",
        "set2.remove(2)\n",
        "print(set2)"
      ],
      "metadata": {
        "colab": {
          "base_uri": "https://localhost:8080/"
        },
        "id": "Yk9KczzWOH44",
        "outputId": "95901b65-56f2-453d-de4c-56e3f47addd3"
      },
      "execution_count": 18,
      "outputs": [
        {
          "output_type": "stream",
          "name": "stdout",
          "text": [
            "{'v', 2, 3, 'j', 'p'}\n",
            "{'v', 2, 3, 'j', 10, 'p'}\n",
            "{'v', 3, 'j', 10, 'p'}\n"
          ]
        }
      ]
    }
  ]
}