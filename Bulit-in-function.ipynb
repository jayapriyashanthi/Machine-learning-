{
 "cells": [
  {
   "cell_type": "code",
   "execution_count": 2,
   "id": "f078baa7",
   "metadata": {},
   "outputs": [
    {
     "name": "stdout",
     "output_type": "stream",
     "text": [
      "989\n"
     ]
    }
   ],
   "source": [
    "negative_no=-989\n",
    "print(abs(negative_no))"
   ]
  },
  {
   "cell_type": "code",
   "execution_count": 14,
   "id": "464290ba",
   "metadata": {},
   "outputs": [
    {
     "name": "stdout",
     "output_type": "stream",
     "text": [
      "90\n"
     ]
    }
   ],
   "source": [
    "nearest_no=89.78659\n",
    "print(round(nearest_no))"
   ]
  },
  {
   "cell_type": "code",
   "execution_count": 4,
   "id": "4a537c46",
   "metadata": {},
   "outputs": [
    {
     "name": "stdout",
     "output_type": "stream",
     "text": [
      "81\n"
     ]
    }
   ],
   "source": [
    "x=pow(3,4)\n",
    "print(x)"
   ]
  },
  {
   "cell_type": "code",
   "execution_count": 5,
   "id": "a3dbeae4",
   "metadata": {},
   "outputs": [
    {
     "name": "stdout",
     "output_type": "stream",
     "text": [
      "89\n",
      "98\n"
     ]
    }
   ],
   "source": [
    "x=89\n",
    "y=98\n",
    "print(min(x,y))\n",
    "print(max(x,y))"
   ]
  },
  {
   "cell_type": "code",
   "execution_count": 6,
   "id": "a2611043",
   "metadata": {},
   "outputs": [
    {
     "name": "stdout",
     "output_type": "stream",
     "text": [
      "['__class__', '__delattr__', '__dict__', '__dir__', '__doc__', '__eq__', '__format__', '__ge__', '__getattribute__', '__gt__', '__hash__', '__init__', '__init_subclass__', '__le__', '__lt__', '__module__', '__ne__', '__new__', '__reduce__', '__reduce_ex__', '__repr__', '__setattr__', '__sizeof__', '__str__', '__subclasshook__', '__weakref__', 'age', 'country', 'education', 'name']\n"
     ]
    }
   ],
   "source": [
    "class person:\n",
    "    name=\"priya\"\n",
    "    age=\"19\"\n",
    "    country=\"chennai\"\n",
    "    education=\"MIT chennai\"\n",
    "print(dir(person))"
   ]
  },
  {
   "cell_type": "code",
   "execution_count": 8,
   "id": "62bd9b97",
   "metadata": {},
   "outputs": [
    {
     "name": "stdout",
     "output_type": "stream",
     "text": [
      "['s', 'p', 'l', 'j', 'i', 'a']\n",
      "['a', 'i', 'j', 'l', 'p', 's']\n"
     ]
    }
   ],
   "source": [
    "\n",
    "tuple=(\"j\",\"p\",\"i\",\"l\",\"s\",\"a\")\n",
    "print(sorted(tuple,reverse=True))\n",
    "print(sorted(tuple))"
   ]
  },
  {
   "cell_type": "code",
   "execution_count": 15,
   "id": "5338fa81",
   "metadata": {},
   "outputs": [
    {
     "name": "stdout",
     "output_type": "stream",
     "text": [
      "3\n",
      "12\n"
     ]
    }
   ],
   "source": [
    "'''max and min in strings'''\n",
    "tuple=(\"jp\",\"sukanti\",\"meena\",)\n",
    "print(len(tuple))\n",
    "string=\"hello carots\"\n",
    "print(len(string))"
   ]
  },
  {
   "cell_type": "code",
   "execution_count": 13,
   "id": "1b214e3f",
   "metadata": {},
   "outputs": [
    {
     "name": "stdout",
     "output_type": "stream",
     "text": [
      "sukanti\n",
      "jp\n"
     ]
    }
   ],
   "source": [
    "'''Max and min in strings'''\n",
    "tuple=(\"jp\",\"sukanti\",\"meena\")\n",
    "print(max(tuple))\n",
    "print(min(tuple))"
   ]
  },
  {
   "cell_type": "code",
   "execution_count": 16,
   "id": "e0e9b249",
   "metadata": {},
   "outputs": [
    {
     "name": "stdout",
     "output_type": "stream",
     "text": [
      "49\n"
     ]
    }
   ],
   "source": [
    "'''Sum of value'''\n",
    "a=(1,3,5,7,9,11)\n",
    "print(sum(a,13))"
   ]
  },
  {
   "cell_type": "code",
   "execution_count": 17,
   "id": "f2f44cbe",
   "metadata": {},
   "outputs": [
    {
     "name": "stdout",
     "output_type": "stream",
     "text": [
      "Help on built-in function print in module builtins:\n",
      "\n",
      "print(...)\n",
      "    print(value, ..., sep=' ', end='\\n', file=sys.stdout, flush=False)\n",
      "    \n",
      "    Prints the values to a stream, or to sys.stdout by default.\n",
      "    Optional keyword arguments:\n",
      "    file:  a file-like object (stream); defaults to the current sys.stdout.\n",
      "    sep:   string inserted between values, default a space.\n",
      "    end:   string appended after the last value, default a newline.\n",
      "    flush: whether to forcibly flush the stream.\n",
      "\n"
     ]
    }
   ],
   "source": [
    "help(print)"
   ]
  },
  {
   "cell_type": "code",
   "execution_count": 25,
   "id": "aac2ed1e",
   "metadata": {},
   "outputs": [
    {
     "name": "stdout",
     "output_type": "stream",
     "text": [
      "the square of the number is: 81\n"
     ]
    }
   ],
   "source": [
    "'''User defined function'''\n",
    "def square(num):\n",
    "    \"\"\"the function computes the square of the number\"\"\"\n",
    "    return num **2\n",
    "object_=square(9)\n",
    "print(\"the square of the number is:\",object_)\n"
   ]
  },
  {
   "cell_type": "code",
   "execution_count": 35,
   "id": "c0ac94ea",
   "metadata": {},
   "outputs": [
    {
     "name": "stdout",
     "output_type": "stream",
     "text": [
      "square of the list is: [2025, 2704, 169]\n"
     ]
    }
   ],
   "source": [
    "def square(my_list):\n",
    "    \"\"\"this function will find the square of item in list \"\"\"\n",
    "    squares=[]\n",
    "    for l in my_list:\n",
    "        squares.append(l**2)\n",
    "return squares\n",
    "#calling the defined function\n",
    "list_=[45,52,13];\n",
    "result=square(list_)\n",
    "print(\"square of the list is:\",result)\n"
   ]
  },
  {
   "cell_type": "code",
   "execution_count": 38,
   "id": "8e352214",
   "metadata": {},
   "outputs": [
    {
     "name": "stdout",
     "output_type": "stream",
     "text": [
      "value of the function is : 50\n",
      "value of the function is : 90\n"
     ]
    }
   ],
   "source": [
    "#Lambda function\n",
    "lambda_=lambda argument1, argument2: argument1+argument2;\n",
    "print(\"value of the function is :\",lambda_(20,30))\n",
    "print(\"value of the function is :\",lambda_(40,50))"
   ]
  },
  {
   "cell_type": "code",
   "execution_count": null,
   "id": "e5486063",
   "metadata": {},
   "outputs": [],
   "source": [
    "from time import process_time\n"
   ]
  }
 ],
 "metadata": {
  "kernelspec": {
   "display_name": "Python 3 (ipykernel)",
   "language": "python",
   "name": "python3"
  },
  "language_info": {
   "codemirror_mode": {
    "name": "ipython",
    "version": 3
   },
   "file_extension": ".py",
   "mimetype": "text/x-python",
   "name": "python",
   "nbconvert_exporter": "python",
   "pygments_lexer": "ipython3",
   "version": "3.9.12"
  }
 },
 "nbformat": 4,
 "nbformat_minor": 5
}
