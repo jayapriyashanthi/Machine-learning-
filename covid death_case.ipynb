{
 "cells": [
  {
   "cell_type": "markdown",
   "id": "c7fe08ad",
   "metadata": {},
   "source": [
    "# TABLE OF CONTENTS"
   ]
  },
  {
   "cell_type": "markdown",
   "id": "7e4d879c",
   "metadata": {},
   "source": [
    "1.Introduction to Dataset\n",
    "\n",
    "2.Import Libraries\n",
    "\n",
    "3.Read Dataset\n",
    "\n",
    "4.Data Exploration\n",
    "\n",
    "5.Segregation of Particular Values\n",
    "\n",
    "6.Data Visualisation \n",
    "\n",
    "7.Analyse data based on certain criteria\n",
    "\n",
    "8.profiling based on topness\n",
    "\n",
    "9.Data Analysis"
   ]
  },
  {
   "cell_type": "markdown",
   "id": "911458e9",
   "metadata": {},
   "source": [
    "# INTRODUCTION TO DATASET:\n",
    "\n",
    "CONTEXT: This a daily updated dataset of COVID-19 Death details.\n",
    "\n",
    "CONTENT: the dataset contain data of two countries.\n",
    "\n",
    "ACKNOWLEDGEMENT:This data contain from The Newyorktimes and The Economist.\n"
   ]
  },
  {
   "cell_type": "markdown",
   "id": "90b00dd6",
   "metadata": {},
   "source": [
    "# IMPORT LIBRARIES AND DATABASE"
   ]
  },
  {
   "cell_type": "code",
   "execution_count": 1,
   "id": "30d619a9",
   "metadata": {},
   "outputs": [],
   "source": [
    "import pandas as pd\n",
    "import warnings\n",
    "warnings.filterwarnings('ignore')\n",
    "import matplotlib.pyplot as plt\n",
    "import seaborn as sns\n",
    "import numpy as np\n",
    "df = pd.read_csv(\"death_case.csv\")"
   ]
  },
  {
   "cell_type": "code",
   "execution_count": 2,
   "id": "fc3d58a1",
   "metadata": {},
   "outputs": [
    {
     "data": {
      "text/plain": [
       "(254, 19)"
      ]
     },
     "execution_count": 2,
     "metadata": {},
     "output_type": "execute_result"
    }
   ],
   "source": [
    "df.shape"
   ]
  },
  {
   "cell_type": "code",
   "execution_count": 3,
   "id": "a99b86a1",
   "metadata": {
    "scrolled": false
   },
   "outputs": [
    {
     "data": {
      "text/html": [
       "<div>\n",
       "<style scoped>\n",
       "    .dataframe tbody tr th:only-of-type {\n",
       "        vertical-align: middle;\n",
       "    }\n",
       "\n",
       "    .dataframe tbody tr th {\n",
       "        vertical-align: top;\n",
       "    }\n",
       "\n",
       "    .dataframe thead th {\n",
       "        text-align: right;\n",
       "    }\n",
       "</style>\n",
       "<table border=\"1\" class=\"dataframe\">\n",
       "  <thead>\n",
       "    <tr style=\"text-align: right;\">\n",
       "      <th></th>\n",
       "      <th>country</th>\n",
       "      <th>region</th>\n",
       "      <th>reg</th>\n",
       "      <th>region_code</th>\n",
       "      <th>start_date</th>\n",
       "      <th>end_date</th>\n",
       "      <th>days</th>\n",
       "      <th>year</th>\n",
       "      <th>week</th>\n",
       "      <th>population</th>\n",
       "      <th>total_deaths</th>\n",
       "      <th>covid_deaths</th>\n",
       "      <th>expected_deaths</th>\n",
       "      <th>excess_deaths</th>\n",
       "      <th>non_covid_deaths</th>\n",
       "      <th>covid_deaths_per_100k</th>\n",
       "      <th>excess_deaths_per_100k</th>\n",
       "      <th>excess_deaths_pct_change</th>\n",
       "      <th>TARGET</th>\n",
       "    </tr>\n",
       "  </thead>\n",
       "  <tbody>\n",
       "    <tr>\n",
       "      <th>0</th>\n",
       "      <td>South Africa</td>\n",
       "      <td>South Africa</td>\n",
       "      <td>SA</td>\n",
       "      <td>0</td>\n",
       "      <td>29-12-2019</td>\n",
       "      <td>04-01-2020</td>\n",
       "      <td>7</td>\n",
       "      <td>2020</td>\n",
       "      <td>1</td>\n",
       "      <td>59392255</td>\n",
       "      <td>10456</td>\n",
       "      <td>0</td>\n",
       "      <td>10253.718970</td>\n",
       "      <td>202.281032</td>\n",
       "      <td>10456</td>\n",
       "      <td>0.0</td>\n",
       "      <td>0.340585</td>\n",
       "      <td>0.019728</td>\n",
       "      <td>True</td>\n",
       "    </tr>\n",
       "    <tr>\n",
       "      <th>1</th>\n",
       "      <td>South Africa</td>\n",
       "      <td>South Africa</td>\n",
       "      <td>SA</td>\n",
       "      <td>0</td>\n",
       "      <td>05-01-2020</td>\n",
       "      <td>11-01-2020</td>\n",
       "      <td>7</td>\n",
       "      <td>2020</td>\n",
       "      <td>2</td>\n",
       "      <td>59392255</td>\n",
       "      <td>9678</td>\n",
       "      <td>0</td>\n",
       "      <td>9357.052301</td>\n",
       "      <td>320.947699</td>\n",
       "      <td>9678</td>\n",
       "      <td>0.0</td>\n",
       "      <td>0.540386</td>\n",
       "      <td>0.034300</td>\n",
       "      <td>True</td>\n",
       "    </tr>\n",
       "    <tr>\n",
       "      <th>2</th>\n",
       "      <td>South Africa</td>\n",
       "      <td>South Africa</td>\n",
       "      <td>SA</td>\n",
       "      <td>0</td>\n",
       "      <td>12-01-2020</td>\n",
       "      <td>18-01-2020</td>\n",
       "      <td>7</td>\n",
       "      <td>2020</td>\n",
       "      <td>3</td>\n",
       "      <td>59392255</td>\n",
       "      <td>9254</td>\n",
       "      <td>0</td>\n",
       "      <td>9104.218968</td>\n",
       "      <td>149.781032</td>\n",
       "      <td>9254</td>\n",
       "      <td>0.0</td>\n",
       "      <td>0.252190</td>\n",
       "      <td>0.016452</td>\n",
       "      <td>True</td>\n",
       "    </tr>\n",
       "    <tr>\n",
       "      <th>3</th>\n",
       "      <td>South Africa</td>\n",
       "      <td>South Africa</td>\n",
       "      <td>SA</td>\n",
       "      <td>0</td>\n",
       "      <td>19-01-2020</td>\n",
       "      <td>25-01-2020</td>\n",
       "      <td>7</td>\n",
       "      <td>2020</td>\n",
       "      <td>4</td>\n",
       "      <td>59392255</td>\n",
       "      <td>8626</td>\n",
       "      <td>0</td>\n",
       "      <td>8877.385635</td>\n",
       "      <td>-251.385635</td>\n",
       "      <td>8626</td>\n",
       "      <td>0.0</td>\n",
       "      <td>-0.423263</td>\n",
       "      <td>-0.028318</td>\n",
       "      <td>True</td>\n",
       "    </tr>\n",
       "    <tr>\n",
       "      <th>4</th>\n",
       "      <td>South Africa</td>\n",
       "      <td>South Africa</td>\n",
       "      <td>SA</td>\n",
       "      <td>0</td>\n",
       "      <td>26-01-2020</td>\n",
       "      <td>01-02-2020</td>\n",
       "      <td>7</td>\n",
       "      <td>2020</td>\n",
       "      <td>5</td>\n",
       "      <td>59392255</td>\n",
       "      <td>9417</td>\n",
       "      <td>0</td>\n",
       "      <td>9281.552301</td>\n",
       "      <td>135.447699</td>\n",
       "      <td>9417</td>\n",
       "      <td>0.0</td>\n",
       "      <td>0.228056</td>\n",
       "      <td>0.014593</td>\n",
       "      <td>True</td>\n",
       "    </tr>\n",
       "  </tbody>\n",
       "</table>\n",
       "</div>"
      ],
      "text/plain": [
       "        country        region reg  region_code  start_date    end_date  days  \\\n",
       "0  South Africa  South Africa  SA            0  29-12-2019  04-01-2020     7   \n",
       "1  South Africa  South Africa  SA            0  05-01-2020  11-01-2020     7   \n",
       "2  South Africa  South Africa  SA            0  12-01-2020  18-01-2020     7   \n",
       "3  South Africa  South Africa  SA            0  19-01-2020  25-01-2020     7   \n",
       "4  South Africa  South Africa  SA            0  26-01-2020  01-02-2020     7   \n",
       "\n",
       "   year  week  population  total_deaths  covid_deaths  expected_deaths  \\\n",
       "0  2020     1    59392255         10456             0     10253.718970   \n",
       "1  2020     2    59392255          9678             0      9357.052301   \n",
       "2  2020     3    59392255          9254             0      9104.218968   \n",
       "3  2020     4    59392255          8626             0      8877.385635   \n",
       "4  2020     5    59392255          9417             0      9281.552301   \n",
       "\n",
       "   excess_deaths  non_covid_deaths  covid_deaths_per_100k  \\\n",
       "0     202.281032             10456                    0.0   \n",
       "1     320.947699              9678                    0.0   \n",
       "2     149.781032              9254                    0.0   \n",
       "3    -251.385635              8626                    0.0   \n",
       "4     135.447699              9417                    0.0   \n",
       "\n",
       "   excess_deaths_per_100k  excess_deaths_pct_change  TARGET  \n",
       "0                0.340585                  0.019728    True  \n",
       "1                0.540386                  0.034300    True  \n",
       "2                0.252190                  0.016452    True  \n",
       "3               -0.423263                 -0.028318    True  \n",
       "4                0.228056                  0.014593    True  "
      ]
     },
     "execution_count": 3,
     "metadata": {},
     "output_type": "execute_result"
    }
   ],
   "source": [
    "df.head()"
   ]
  },
  {
   "cell_type": "code",
   "execution_count": 4,
   "id": "a2b30117",
   "metadata": {
    "scrolled": true
   },
   "outputs": [
    {
     "data": {
      "text/html": [
       "<div>\n",
       "<style scoped>\n",
       "    .dataframe tbody tr th:only-of-type {\n",
       "        vertical-align: middle;\n",
       "    }\n",
       "\n",
       "    .dataframe tbody tr th {\n",
       "        vertical-align: top;\n",
       "    }\n",
       "\n",
       "    .dataframe thead th {\n",
       "        text-align: right;\n",
       "    }\n",
       "</style>\n",
       "<table border=\"1\" class=\"dataframe\">\n",
       "  <thead>\n",
       "    <tr style=\"text-align: right;\">\n",
       "      <th></th>\n",
       "      <th>country</th>\n",
       "      <th>region</th>\n",
       "      <th>reg</th>\n",
       "      <th>region_code</th>\n",
       "      <th>start_date</th>\n",
       "      <th>end_date</th>\n",
       "      <th>days</th>\n",
       "      <th>year</th>\n",
       "      <th>week</th>\n",
       "      <th>population</th>\n",
       "      <th>total_deaths</th>\n",
       "      <th>covid_deaths</th>\n",
       "      <th>expected_deaths</th>\n",
       "      <th>excess_deaths</th>\n",
       "      <th>non_covid_deaths</th>\n",
       "      <th>covid_deaths_per_100k</th>\n",
       "      <th>excess_deaths_per_100k</th>\n",
       "      <th>excess_deaths_pct_change</th>\n",
       "      <th>TARGET</th>\n",
       "    </tr>\n",
       "  </thead>\n",
       "  <tbody>\n",
       "    <tr>\n",
       "      <th>249</th>\n",
       "      <td>South Korea</td>\n",
       "      <td>South Korea</td>\n",
       "      <td>SK</td>\n",
       "      <td>0</td>\n",
       "      <td>28-03-2022</td>\n",
       "      <td>03-04-2022</td>\n",
       "      <td>7</td>\n",
       "      <td>2022</td>\n",
       "      <td>13</td>\n",
       "      <td>51830139</td>\n",
       "      <td>10187</td>\n",
       "      <td>2267</td>\n",
       "      <td>6145.90309</td>\n",
       "      <td>4041.09691</td>\n",
       "      <td>7920</td>\n",
       "      <td>4.373903</td>\n",
       "      <td>7.796809</td>\n",
       "      <td>0.657527</td>\n",
       "      <td>False</td>\n",
       "    </tr>\n",
       "    <tr>\n",
       "      <th>250</th>\n",
       "      <td>South Korea</td>\n",
       "      <td>South Korea</td>\n",
       "      <td>SK</td>\n",
       "      <td>0</td>\n",
       "      <td>04-04-2022</td>\n",
       "      <td>10-04-2022</td>\n",
       "      <td>7</td>\n",
       "      <td>2022</td>\n",
       "      <td>14</td>\n",
       "      <td>51830139</td>\n",
       "      <td>9540</td>\n",
       "      <td>2226</td>\n",
       "      <td>6152.30309</td>\n",
       "      <td>3387.69691</td>\n",
       "      <td>7314</td>\n",
       "      <td>4.294798</td>\n",
       "      <td>6.536152</td>\n",
       "      <td>0.550639</td>\n",
       "      <td>False</td>\n",
       "    </tr>\n",
       "    <tr>\n",
       "      <th>251</th>\n",
       "      <td>South Korea</td>\n",
       "      <td>South Korea</td>\n",
       "      <td>SK</td>\n",
       "      <td>0</td>\n",
       "      <td>11-04-2022</td>\n",
       "      <td>17-04-2022</td>\n",
       "      <td>7</td>\n",
       "      <td>2022</td>\n",
       "      <td>15</td>\n",
       "      <td>51830139</td>\n",
       "      <td>8757</td>\n",
       "      <td>1545</td>\n",
       "      <td>5998.50309</td>\n",
       "      <td>2758.49691</td>\n",
       "      <td>7212</td>\n",
       "      <td>2.980891</td>\n",
       "      <td>5.322187</td>\n",
       "      <td>0.459864</td>\n",
       "      <td>False</td>\n",
       "    </tr>\n",
       "    <tr>\n",
       "      <th>252</th>\n",
       "      <td>South Korea</td>\n",
       "      <td>South Korea</td>\n",
       "      <td>SK</td>\n",
       "      <td>0</td>\n",
       "      <td>18-04-2022</td>\n",
       "      <td>24-04-2022</td>\n",
       "      <td>7</td>\n",
       "      <td>2022</td>\n",
       "      <td>16</td>\n",
       "      <td>51830139</td>\n",
       "      <td>7760</td>\n",
       "      <td>1019</td>\n",
       "      <td>6068.10309</td>\n",
       "      <td>1691.89691</td>\n",
       "      <td>6741</td>\n",
       "      <td>1.966038</td>\n",
       "      <td>3.264311</td>\n",
       "      <td>0.278818</td>\n",
       "      <td>False</td>\n",
       "    </tr>\n",
       "    <tr>\n",
       "      <th>253</th>\n",
       "      <td>South Korea</td>\n",
       "      <td>South Korea</td>\n",
       "      <td>SK</td>\n",
       "      <td>0</td>\n",
       "      <td>25-04-2022</td>\n",
       "      <td>01-05-2022</td>\n",
       "      <td>7</td>\n",
       "      <td>2022</td>\n",
       "      <td>17</td>\n",
       "      <td>51830139</td>\n",
       "      <td>6968</td>\n",
       "      <td>715</td>\n",
       "      <td>5916.30309</td>\n",
       "      <td>1051.69691</td>\n",
       "      <td>6253</td>\n",
       "      <td>1.379506</td>\n",
       "      <td>2.029122</td>\n",
       "      <td>0.177763</td>\n",
       "      <td>False</td>\n",
       "    </tr>\n",
       "  </tbody>\n",
       "</table>\n",
       "</div>"
      ],
      "text/plain": [
       "         country       region reg  region_code  start_date    end_date  days  \\\n",
       "249  South Korea  South Korea  SK            0  28-03-2022  03-04-2022     7   \n",
       "250  South Korea  South Korea  SK            0  04-04-2022  10-04-2022     7   \n",
       "251  South Korea  South Korea  SK            0  11-04-2022  17-04-2022     7   \n",
       "252  South Korea  South Korea  SK            0  18-04-2022  24-04-2022     7   \n",
       "253  South Korea  South Korea  SK            0  25-04-2022  01-05-2022     7   \n",
       "\n",
       "     year  week  population  total_deaths  covid_deaths  expected_deaths  \\\n",
       "249  2022    13    51830139         10187          2267       6145.90309   \n",
       "250  2022    14    51830139          9540          2226       6152.30309   \n",
       "251  2022    15    51830139          8757          1545       5998.50309   \n",
       "252  2022    16    51830139          7760          1019       6068.10309   \n",
       "253  2022    17    51830139          6968           715       5916.30309   \n",
       "\n",
       "     excess_deaths  non_covid_deaths  covid_deaths_per_100k  \\\n",
       "249     4041.09691              7920               4.373903   \n",
       "250     3387.69691              7314               4.294798   \n",
       "251     2758.49691              7212               2.980891   \n",
       "252     1691.89691              6741               1.966038   \n",
       "253     1051.69691              6253               1.379506   \n",
       "\n",
       "     excess_deaths_per_100k  excess_deaths_pct_change  TARGET  \n",
       "249                7.796809                  0.657527   False  \n",
       "250                6.536152                  0.550639   False  \n",
       "251                5.322187                  0.459864   False  \n",
       "252                3.264311                  0.278818   False  \n",
       "253                2.029122                  0.177763   False  "
      ]
     },
     "execution_count": 4,
     "metadata": {},
     "output_type": "execute_result"
    }
   ],
   "source": [
    "df.tail()\n"
   ]
  },
  {
   "cell_type": "code",
   "execution_count": 5,
   "id": "90351e1b",
   "metadata": {},
   "outputs": [],
   "source": [
    "#df.to_excel('')\n",
    "#filename_df.isnull().sum()"
   ]
  },
  {
   "cell_type": "code",
   "execution_count": 6,
   "id": "e65d2d27",
   "metadata": {
    "scrolled": true
   },
   "outputs": [
    {
     "data": {
      "text/plain": [
       "country                     0\n",
       "region                      0\n",
       "reg                         0\n",
       "region_code                 0\n",
       "start_date                  0\n",
       "end_date                    0\n",
       "days                        0\n",
       "year                        0\n",
       "week                        0\n",
       "population                  0\n",
       "total_deaths                0\n",
       "covid_deaths                0\n",
       "expected_deaths             0\n",
       "excess_deaths               0\n",
       "non_covid_deaths            0\n",
       "covid_deaths_per_100k       0\n",
       "excess_deaths_per_100k      0\n",
       "excess_deaths_pct_change    0\n",
       "TARGET                      0\n",
       "dtype: int64"
      ]
     },
     "execution_count": 6,
     "metadata": {},
     "output_type": "execute_result"
    }
   ],
   "source": [
    "df.isnull().sum()"
   ]
  },
  {
   "cell_type": "code",
   "execution_count": 7,
   "id": "bf5eefdc",
   "metadata": {},
   "outputs": [
    {
     "data": {
      "text/plain": [
       "Index(['country', 'region', 'reg', 'region_code', 'start_date', 'end_date',\n",
       "       'days', 'year', 'week', 'population', 'total_deaths', 'covid_deaths',\n",
       "       'expected_deaths', 'excess_deaths', 'non_covid_deaths',\n",
       "       'covid_deaths_per_100k', 'excess_deaths_per_100k',\n",
       "       'excess_deaths_pct_change', 'TARGET'],\n",
       "      dtype='object')"
      ]
     },
     "execution_count": 7,
     "metadata": {},
     "output_type": "execute_result"
    }
   ],
   "source": [
    "df.columns"
   ]
  },
  {
   "cell_type": "code",
   "execution_count": 8,
   "id": "6fef2325",
   "metadata": {},
   "outputs": [
    {
     "name": "stdout",
     "output_type": "stream",
     "text": [
      "<class 'pandas.core.frame.DataFrame'>\n",
      "RangeIndex: 254 entries, 0 to 253\n",
      "Data columns (total 19 columns):\n",
      " #   Column                    Non-Null Count  Dtype  \n",
      "---  ------                    --------------  -----  \n",
      " 0   country                   254 non-null    object \n",
      " 1   region                    254 non-null    object \n",
      " 2   reg                       254 non-null    object \n",
      " 3   region_code               254 non-null    int64  \n",
      " 4   start_date                254 non-null    object \n",
      " 5   end_date                  254 non-null    object \n",
      " 6   days                      254 non-null    int64  \n",
      " 7   year                      254 non-null    int64  \n",
      " 8   week                      254 non-null    int64  \n",
      " 9   population                254 non-null    int64  \n",
      " 10  total_deaths              254 non-null    int64  \n",
      " 11  covid_deaths              254 non-null    int64  \n",
      " 12  expected_deaths           254 non-null    float64\n",
      " 13  excess_deaths             254 non-null    float64\n",
      " 14  non_covid_deaths          254 non-null    int64  \n",
      " 15  covid_deaths_per_100k     254 non-null    float64\n",
      " 16  excess_deaths_per_100k    254 non-null    float64\n",
      " 17  excess_deaths_pct_change  254 non-null    float64\n",
      " 18  TARGET                    254 non-null    bool   \n",
      "dtypes: bool(1), float64(5), int64(8), object(5)\n",
      "memory usage: 36.1+ KB\n"
     ]
    }
   ],
   "source": [
    "df.info()"
   ]
  },
  {
   "cell_type": "code",
   "execution_count": 9,
   "id": "1d2e11d3",
   "metadata": {},
   "outputs": [
    {
     "data": {
      "text/plain": [
       "country                     0\n",
       "region                      0\n",
       "reg                         0\n",
       "region_code                 0\n",
       "start_date                  0\n",
       "end_date                    0\n",
       "days                        0\n",
       "year                        0\n",
       "week                        0\n",
       "population                  0\n",
       "total_deaths                0\n",
       "covid_deaths                0\n",
       "expected_deaths             0\n",
       "excess_deaths               0\n",
       "non_covid_deaths            0\n",
       "covid_deaths_per_100k       0\n",
       "excess_deaths_per_100k      0\n",
       "excess_deaths_pct_change    0\n",
       "TARGET                      0\n",
       "dtype: int64"
      ]
     },
     "execution_count": 9,
     "metadata": {},
     "output_type": "execute_result"
    }
   ],
   "source": [
    "df.isnull().sum()"
   ]
  },
  {
   "cell_type": "code",
   "execution_count": 10,
   "id": "6d4094f0",
   "metadata": {},
   "outputs": [
    {
     "data": {
      "text/plain": [
       "days\n",
       "7    254\n",
       "dtype: int64"
      ]
     },
     "execution_count": 10,
     "metadata": {},
     "output_type": "execute_result"
    }
   ],
   "source": [
    "df.value_counts('days')"
   ]
  },
  {
   "cell_type": "code",
   "execution_count": 11,
   "id": "c3514476",
   "metadata": {},
   "outputs": [
    {
     "data": {
      "text/plain": [
       "country                     254\n",
       "region                      254\n",
       "reg                         254\n",
       "region_code                 254\n",
       "start_date                  254\n",
       "end_date                    254\n",
       "days                        254\n",
       "year                        254\n",
       "week                        254\n",
       "population                  254\n",
       "total_deaths                254\n",
       "covid_deaths                254\n",
       "expected_deaths             254\n",
       "excess_deaths               254\n",
       "non_covid_deaths            254\n",
       "covid_deaths_per_100k       254\n",
       "excess_deaths_per_100k      254\n",
       "excess_deaths_pct_change    254\n",
       "TARGET                      254\n",
       "dtype: int64"
      ]
     },
     "execution_count": 11,
     "metadata": {},
     "output_type": "execute_result"
    }
   ],
   "source": [
    "df.count()"
   ]
  },
  {
   "cell_type": "code",
   "execution_count": 12,
   "id": "5a5a9f7c",
   "metadata": {},
   "outputs": [
    {
     "data": {
      "text/plain": [
       "country                     254\n",
       "region                      254\n",
       "reg                         254\n",
       "region_code                 254\n",
       "start_date                  254\n",
       "end_date                    254\n",
       "days                        254\n",
       "year                        254\n",
       "week                        254\n",
       "population                  254\n",
       "total_deaths                254\n",
       "covid_deaths                254\n",
       "expected_deaths             254\n",
       "excess_deaths               254\n",
       "non_covid_deaths            254\n",
       "covid_deaths_per_100k       254\n",
       "excess_deaths_per_100k      254\n",
       "excess_deaths_pct_change    254\n",
       "TARGET                      254\n",
       "dtype: int64"
      ]
     },
     "execution_count": 12,
     "metadata": {},
     "output_type": "execute_result"
    }
   ],
   "source": [
    "df.count()\n"
   ]
  },
  {
   "cell_type": "code",
   "execution_count": 13,
   "id": "82aeedca",
   "metadata": {},
   "outputs": [
    {
     "data": {
      "text/plain": [
       "region_code                 0.000000e+00\n",
       "days                        0.000000e+00\n",
       "year                        7.301149e-01\n",
       "week                        1.519230e+01\n",
       "population                  3.785586e+06\n",
       "total_deaths                3.739808e+03\n",
       "covid_deaths                7.656036e+02\n",
       "expected_deaths             2.121175e+03\n",
       "excess_deaths               2.339179e+03\n",
       "non_covid_deaths            3.160391e+03\n",
       "covid_deaths_per_100k       1.315221e+00\n",
       "excess_deaths_per_100k      3.965772e+00\n",
       "excess_deaths_pct_change    2.413033e-01\n",
       "TARGET                      4.621964e-01\n",
       "dtype: float64"
      ]
     },
     "execution_count": 13,
     "metadata": {},
     "output_type": "execute_result"
    }
   ],
   "source": [
    "df.std()"
   ]
  },
  {
   "cell_type": "code",
   "execution_count": 14,
   "id": "53191068",
   "metadata": {},
   "outputs": [
    {
     "data": {
      "text/plain": [
       "country                     South Africa\n",
       "region                      South Africa\n",
       "reg                                   SA\n",
       "region_code                            0\n",
       "start_date                    01-02-2021\n",
       "end_date                      01-01-2022\n",
       "days                                   7\n",
       "year                                2020\n",
       "week                                   1\n",
       "population                      51830139\n",
       "total_deaths                        5210\n",
       "covid_deaths                           0\n",
       "expected_deaths              5375.941854\n",
       "excess_deaths               -1727.662762\n",
       "non_covid_deaths                    5205\n",
       "covid_deaths_per_100k                0.0\n",
       "excess_deaths_per_100k         -2.908902\n",
       "excess_deaths_pct_change       -0.169252\n",
       "TARGET                             False\n",
       "dtype: object"
      ]
     },
     "execution_count": 14,
     "metadata": {},
     "output_type": "execute_result"
    }
   ],
   "source": [
    "df.min()"
   ]
  },
  {
   "cell_type": "code",
   "execution_count": 15,
   "id": "7a0b138b",
   "metadata": {},
   "outputs": [
    {
     "data": {
      "text/plain": [
       "country                     South Korea\n",
       "region                      South Korea\n",
       "reg                                  SK\n",
       "region_code                           0\n",
       "start_date                   31-10-2021\n",
       "end_date                     31-10-2021\n",
       "days                                  7\n",
       "year                               2022\n",
       "week                                 53\n",
       "population                     59392255\n",
       "total_deaths                      24953\n",
       "covid_deaths                       4027\n",
       "expected_deaths             11647.66276\n",
       "excess_deaths               15628.72678\n",
       "non_covid_deaths                  20926\n",
       "covid_deaths_per_100k          6.780345\n",
       "excess_deaths_per_100k        26.314419\n",
       "excess_deaths_pct_change       1.676134\n",
       "TARGET                             True\n",
       "dtype: object"
      ]
     },
     "execution_count": 15,
     "metadata": {},
     "output_type": "execute_result"
    }
   ],
   "source": [
    "df.max()"
   ]
  },
  {
   "cell_type": "code",
   "execution_count": 16,
   "id": "d520431d",
   "metadata": {
    "scrolled": true
   },
   "outputs": [
    {
     "data": {
      "text/html": [
       "<div>\n",
       "<style scoped>\n",
       "    .dataframe tbody tr th:only-of-type {\n",
       "        vertical-align: middle;\n",
       "    }\n",
       "\n",
       "    .dataframe tbody tr th {\n",
       "        vertical-align: top;\n",
       "    }\n",
       "\n",
       "    .dataframe thead th {\n",
       "        text-align: right;\n",
       "    }\n",
       "</style>\n",
       "<table border=\"1\" class=\"dataframe\">\n",
       "  <thead>\n",
       "    <tr style=\"text-align: right;\">\n",
       "      <th></th>\n",
       "      <th>region_code</th>\n",
       "      <th>days</th>\n",
       "      <th>year</th>\n",
       "      <th>week</th>\n",
       "      <th>population</th>\n",
       "      <th>total_deaths</th>\n",
       "      <th>covid_deaths</th>\n",
       "      <th>expected_deaths</th>\n",
       "      <th>excess_deaths</th>\n",
       "      <th>non_covid_deaths</th>\n",
       "      <th>covid_deaths_per_100k</th>\n",
       "      <th>excess_deaths_per_100k</th>\n",
       "      <th>excess_deaths_pct_change</th>\n",
       "    </tr>\n",
       "  </thead>\n",
       "  <tbody>\n",
       "    <tr>\n",
       "      <th>count</th>\n",
       "      <td>254.0</td>\n",
       "      <td>254.0</td>\n",
       "      <td>254.000000</td>\n",
       "      <td>254.000000</td>\n",
       "      <td>2.540000e+02</td>\n",
       "      <td>254.000000</td>\n",
       "      <td>254.000000</td>\n",
       "      <td>254.000000</td>\n",
       "      <td>254.000000</td>\n",
       "      <td>254.000000</td>\n",
       "      <td>254.000000</td>\n",
       "      <td>254.000000</td>\n",
       "      <td>254.000000</td>\n",
       "    </tr>\n",
       "    <tr>\n",
       "      <th>mean</th>\n",
       "      <td>0.0</td>\n",
       "      <td>7.0</td>\n",
       "      <td>2020.755906</td>\n",
       "      <td>24.208661</td>\n",
       "      <td>5.576006e+07</td>\n",
       "      <td>9275.381890</td>\n",
       "      <td>490.200787</td>\n",
       "      <td>8067.333012</td>\n",
       "      <td>1208.048877</td>\n",
       "      <td>8785.181102</td>\n",
       "      <td>0.847565</td>\n",
       "      <td>2.070127</td>\n",
       "      <td>0.128551</td>\n",
       "    </tr>\n",
       "    <tr>\n",
       "      <th>std</th>\n",
       "      <td>0.0</td>\n",
       "      <td>0.0</td>\n",
       "      <td>0.730115</td>\n",
       "      <td>15.192304</td>\n",
       "      <td>3.785586e+06</td>\n",
       "      <td>3739.807834</td>\n",
       "      <td>765.603554</td>\n",
       "      <td>2121.174971</td>\n",
       "      <td>2339.178969</td>\n",
       "      <td>3160.390525</td>\n",
       "      <td>1.315221</td>\n",
       "      <td>3.965772</td>\n",
       "      <td>0.241303</td>\n",
       "    </tr>\n",
       "    <tr>\n",
       "      <th>min</th>\n",
       "      <td>0.0</td>\n",
       "      <td>7.0</td>\n",
       "      <td>2020.000000</td>\n",
       "      <td>1.000000</td>\n",
       "      <td>5.183014e+07</td>\n",
       "      <td>5210.000000</td>\n",
       "      <td>0.000000</td>\n",
       "      <td>5375.941854</td>\n",
       "      <td>-1727.662762</td>\n",
       "      <td>5205.000000</td>\n",
       "      <td>0.000000</td>\n",
       "      <td>-2.908902</td>\n",
       "      <td>-0.169252</td>\n",
       "    </tr>\n",
       "    <tr>\n",
       "      <th>25%</th>\n",
       "      <td>0.0</td>\n",
       "      <td>7.0</td>\n",
       "      <td>2020.000000</td>\n",
       "      <td>11.000000</td>\n",
       "      <td>5.183014e+07</td>\n",
       "      <td>5972.000000</td>\n",
       "      <td>20.250000</td>\n",
       "      <td>5964.477318</td>\n",
       "      <td>11.304951</td>\n",
       "      <td>5953.500000</td>\n",
       "      <td>0.039070</td>\n",
       "      <td>0.021812</td>\n",
       "      <td>0.001786</td>\n",
       "    </tr>\n",
       "    <tr>\n",
       "      <th>50%</th>\n",
       "      <td>0.0</td>\n",
       "      <td>7.0</td>\n",
       "      <td>2021.000000</td>\n",
       "      <td>22.500000</td>\n",
       "      <td>5.939226e+07</td>\n",
       "      <td>9093.500000</td>\n",
       "      <td>142.000000</td>\n",
       "      <td>8988.205579</td>\n",
       "      <td>417.886463</td>\n",
       "      <td>8687.000000</td>\n",
       "      <td>0.253495</td>\n",
       "      <td>0.753765</td>\n",
       "      <td>0.057709</td>\n",
       "    </tr>\n",
       "    <tr>\n",
       "      <th>75%</th>\n",
       "      <td>0.0</td>\n",
       "      <td>7.0</td>\n",
       "      <td>2021.000000</td>\n",
       "      <td>37.000000</td>\n",
       "      <td>5.939226e+07</td>\n",
       "      <td>11131.750000</td>\n",
       "      <td>604.500000</td>\n",
       "      <td>10012.728450</td>\n",
       "      <td>1381.261088</td>\n",
       "      <td>10601.250000</td>\n",
       "      <td>1.026840</td>\n",
       "      <td>2.339332</td>\n",
       "      <td>0.148477</td>\n",
       "    </tr>\n",
       "    <tr>\n",
       "      <th>max</th>\n",
       "      <td>0.0</td>\n",
       "      <td>7.0</td>\n",
       "      <td>2022.000000</td>\n",
       "      <td>53.000000</td>\n",
       "      <td>5.939226e+07</td>\n",
       "      <td>24953.000000</td>\n",
       "      <td>4027.000000</td>\n",
       "      <td>11647.662760</td>\n",
       "      <td>15628.726780</td>\n",
       "      <td>20926.000000</td>\n",
       "      <td>6.780345</td>\n",
       "      <td>26.314419</td>\n",
       "      <td>1.676134</td>\n",
       "    </tr>\n",
       "  </tbody>\n",
       "</table>\n",
       "</div>"
      ],
      "text/plain": [
       "       region_code   days         year        week    population  \\\n",
       "count        254.0  254.0   254.000000  254.000000  2.540000e+02   \n",
       "mean           0.0    7.0  2020.755906   24.208661  5.576006e+07   \n",
       "std            0.0    0.0     0.730115   15.192304  3.785586e+06   \n",
       "min            0.0    7.0  2020.000000    1.000000  5.183014e+07   \n",
       "25%            0.0    7.0  2020.000000   11.000000  5.183014e+07   \n",
       "50%            0.0    7.0  2021.000000   22.500000  5.939226e+07   \n",
       "75%            0.0    7.0  2021.000000   37.000000  5.939226e+07   \n",
       "max            0.0    7.0  2022.000000   53.000000  5.939226e+07   \n",
       "\n",
       "       total_deaths  covid_deaths  expected_deaths  excess_deaths  \\\n",
       "count    254.000000    254.000000       254.000000     254.000000   \n",
       "mean    9275.381890    490.200787      8067.333012    1208.048877   \n",
       "std     3739.807834    765.603554      2121.174971    2339.178969   \n",
       "min     5210.000000      0.000000      5375.941854   -1727.662762   \n",
       "25%     5972.000000     20.250000      5964.477318      11.304951   \n",
       "50%     9093.500000    142.000000      8988.205579     417.886463   \n",
       "75%    11131.750000    604.500000     10012.728450    1381.261088   \n",
       "max    24953.000000   4027.000000     11647.662760   15628.726780   \n",
       "\n",
       "       non_covid_deaths  covid_deaths_per_100k  excess_deaths_per_100k  \\\n",
       "count        254.000000             254.000000              254.000000   \n",
       "mean        8785.181102               0.847565                2.070127   \n",
       "std         3160.390525               1.315221                3.965772   \n",
       "min         5205.000000               0.000000               -2.908902   \n",
       "25%         5953.500000               0.039070                0.021812   \n",
       "50%         8687.000000               0.253495                0.753765   \n",
       "75%        10601.250000               1.026840                2.339332   \n",
       "max        20926.000000               6.780345               26.314419   \n",
       "\n",
       "       excess_deaths_pct_change  \n",
       "count                254.000000  \n",
       "mean                   0.128551  \n",
       "std                    0.241303  \n",
       "min                   -0.169252  \n",
       "25%                    0.001786  \n",
       "50%                    0.057709  \n",
       "75%                    0.148477  \n",
       "max                    1.676134  "
      ]
     },
     "execution_count": 16,
     "metadata": {},
     "output_type": "execute_result"
    }
   ],
   "source": [
    "df.describe()"
   ]
  },
  {
   "cell_type": "code",
   "execution_count": 17,
   "id": "c4704b03",
   "metadata": {
    "scrolled": true
   },
   "outputs": [
    {
     "data": {
      "text/plain": [
       "region_code                 0.000000e+00\n",
       "days                        7.000000e+00\n",
       "year                        2.020756e+03\n",
       "week                        2.420866e+01\n",
       "population                  5.576006e+07\n",
       "total_deaths                9.275382e+03\n",
       "covid_deaths                4.902008e+02\n",
       "expected_deaths             8.067333e+03\n",
       "excess_deaths               1.208049e+03\n",
       "non_covid_deaths            8.785181e+03\n",
       "covid_deaths_per_100k       8.475655e-01\n",
       "excess_deaths_per_100k      2.070127e+00\n",
       "excess_deaths_pct_change    1.285511e-01\n",
       "TARGET                      6.929134e-01\n",
       "dtype: float64"
      ]
     },
     "execution_count": 17,
     "metadata": {},
     "output_type": "execute_result"
    }
   ],
   "source": [
    "df.mean()"
   ]
  },
  {
   "cell_type": "markdown",
   "id": "25afc1ad",
   "metadata": {},
   "source": [
    "# DATA VISUALISATION"
   ]
  },
  {
   "cell_type": "code",
   "execution_count": 18,
   "id": "307f6a57",
   "metadata": {},
   "outputs": [],
   "source": [
    "import matplotlib.pyplot as plt"
   ]
  },
  {
   "cell_type": "code",
   "execution_count": 19,
   "id": "18384f3c",
   "metadata": {},
   "outputs": [
    {
     "data": {
      "image/png": "[encoded data removed]",
      "text/plain": [
       "<Figure size 432x288 with 1 Axes>"
      ]
     },
     "metadata": {
      "needs_background": "light"
     },
     "output_type": "display_data"
    }
   ],
   "source": [
    "x=df.week\n",
    "y=df.covid_deaths\n",
    "fig=plt.figure()\n",
    "ax=fig.add_axes([0,0,1,1])\n",
    "ax.bar(x,y,color='blue')\n",
    "plt.ylabel('week')\n",
    "plt.xlabel('covid_deaths')\n",
    "plt.show()"
   ]
  },
  {
   "cell_type": "code",
   "execution_count": 20,
   "id": "34d80f6b",
   "metadata": {},
   "outputs": [
    {
     "data": {
      "image/png": "[encoded data removed]",
      "text/plain": [
       "<Figure size 432x288 with 1 Axes>"
      ]
     },
     "metadata": {
      "needs_background": "light"
     },
     "output_type": "display_data"
    }
   ],
   "source": [
    "import matplotlib.pyplot as plt\n",
    "x=df.covid_deaths\n",
    "y=df.non_covid_deaths\n",
    "plt.plot(x,y,'g--')\n",
    "plt.xlabel('covid_deaths')\n",
    "plt.ylabel('non_covid_deaths')\n",
    "plt.show()\n"
   ]
  },
  {
   "cell_type": "code",
   "execution_count": 21,
   "id": "6e494de5",
   "metadata": {},
   "outputs": [
    {
     "data": {
      "text/plain": [
       "Text(0.5, 1.0, 'total_covid_deaths_ratings')"
      ]
     },
     "execution_count": 21,
     "metadata": {},
     "output_type": "execute_result"
    },
    {
     "data": {
      "image/png": "[encoded data removed]",
      "text/plain": [
       "<Figure size 432x288 with 1 Axes>"
      ]
     },
     "metadata": {
      "needs_background": "light"
     },
     "output_type": "display_data"
    }
   ],
   "source": [
    "x=df.total_deaths\n",
    "y=df.covid_deaths\n",
    "plt.scatter(x,y,c='red',marker='o')\n",
    "plt.xlabel('total_deaths')\n",
    "plt.ylabel('covid_deaths')\n",
    "plt.title('total_covid_deaths_ratings')\n"
   ]
  },
  {
   "cell_type": "code",
   "execution_count": 22,
   "id": "53e65946",
   "metadata": {},
   "outputs": [
    {
     "data": {
      "text/plain": [
       "<AxesSubplot:xlabel='total_deaths', ylabel='Density'>"
      ]
     },
     "execution_count": 22,
     "metadata": {},
     "output_type": "execute_result"
    },
    {
     "data": {
      "image/png": "[encoded data removed]",
      "text/plain": [
       "<Figure size 576x576 with 1 Axes>"
      ]
     },
     "metadata": {
      "needs_background": "light"
     },
     "output_type": "display_data"
    }
   ],
   "source": [
    "fig,ax=plt.subplots(figsize=(8,8))\n",
    "sns.distplot(df.total_deaths)"
   ]
  },
  {
   "cell_type": "markdown",
   "id": "b3e231de",
   "metadata": {},
   "source": [
    "which country had highest amount of death?\n",
    "to predict which week as the highest death rate because of covid-19?\n",
    "to predict which week as the lowest death rate because of covid-19?\n",
    "in which country had lowest amount of death?\n"
   ]
  },
  {
   "cell_type": "code",
   "execution_count": 23,
   "id": "7eedc218",
   "metadata": {},
   "outputs": [
    {
     "data": {
      "text/plain": [
       "<AxesSubplot:>"
      ]
     },
     "execution_count": 23,
     "metadata": {},
     "output_type": "execute_result"
    },
    {
     "data": {
      "image/png": "[encoded data removed]",
      "text/plain": [
       "<Figure size 720x720 with 2 Axes>"
      ]
     },
     "metadata": {
      "needs_background": "light"
     },
     "output_type": "display_data"
    }
   ],
   "source": [
    "correlation=df.corr()\n",
    "plt.figure(figsize=(10,10))\n",
    "sns.heatmap(correlation,cbar=True,square=True, fmt='.1f', annot=True, annot_kws={'size':8},cmap='Blues')\n"
   ]
  },
  {
   "cell_type": "markdown",
   "id": "06ed5e4b",
   "metadata": {},
   "source": [
    "# PREPROCESSING DATA\n"
   ]
  },
  {
   "cell_type": "code",
   "execution_count": 24,
   "id": "6904bf62",
   "metadata": {},
   "outputs": [],
   "source": [
    "from sklearn.preprocessing import LabelEncoder\n",
    "import pandas as pd"
   ]
  },
  {
   "cell_type": "code",
   "execution_count": 25,
   "id": "907aaca4",
   "metadata": {},
   "outputs": [],
   "source": [
    "df=pd.read_csv('death_case.csv')"
   ]
  },
  {
   "cell_type": "code",
   "execution_count": 26,
   "id": "7a0e367e",
   "metadata": {},
   "outputs": [
    {
     "data": {
      "text/html": [
       "<div>\n",
       "<style scoped>\n",
       "    .dataframe tbody tr th:only-of-type {\n",
       "        vertical-align: middle;\n",
       "    }\n",
       "\n",
       "    .dataframe tbody tr th {\n",
       "        vertical-align: top;\n",
       "    }\n",
       "\n",
       "    .dataframe thead th {\n",
       "        text-align: right;\n",
       "    }\n",
       "</style>\n",
       "<table border=\"1\" class=\"dataframe\">\n",
       "  <thead>\n",
       "    <tr style=\"text-align: right;\">\n",
       "      <th></th>\n",
       "      <th>country</th>\n",
       "      <th>region</th>\n",
       "      <th>reg</th>\n",
       "      <th>region_code</th>\n",
       "      <th>start_date</th>\n",
       "      <th>end_date</th>\n",
       "      <th>days</th>\n",
       "      <th>year</th>\n",
       "      <th>week</th>\n",
       "      <th>population</th>\n",
       "      <th>total_deaths</th>\n",
       "      <th>covid_deaths</th>\n",
       "      <th>expected_deaths</th>\n",
       "      <th>excess_deaths</th>\n",
       "      <th>non_covid_deaths</th>\n",
       "      <th>covid_deaths_per_100k</th>\n",
       "      <th>excess_deaths_per_100k</th>\n",
       "      <th>excess_deaths_pct_change</th>\n",
       "      <th>TARGET</th>\n",
       "    </tr>\n",
       "  </thead>\n",
       "  <tbody>\n",
       "    <tr>\n",
       "      <th>0</th>\n",
       "      <td>South Africa</td>\n",
       "      <td>South Africa</td>\n",
       "      <td>SA</td>\n",
       "      <td>0</td>\n",
       "      <td>29-12-2019</td>\n",
       "      <td>04-01-2020</td>\n",
       "      <td>7</td>\n",
       "      <td>2020</td>\n",
       "      <td>1</td>\n",
       "      <td>59392255</td>\n",
       "      <td>10456</td>\n",
       "      <td>0</td>\n",
       "      <td>10253.718970</td>\n",
       "      <td>202.281032</td>\n",
       "      <td>10456</td>\n",
       "      <td>0.0</td>\n",
       "      <td>0.340585</td>\n",
       "      <td>0.019728</td>\n",
       "      <td>True</td>\n",
       "    </tr>\n",
       "    <tr>\n",
       "      <th>1</th>\n",
       "      <td>South Africa</td>\n",
       "      <td>South Africa</td>\n",
       "      <td>SA</td>\n",
       "      <td>0</td>\n",
       "      <td>05-01-2020</td>\n",
       "      <td>11-01-2020</td>\n",
       "      <td>7</td>\n",
       "      <td>2020</td>\n",
       "      <td>2</td>\n",
       "      <td>59392255</td>\n",
       "      <td>9678</td>\n",
       "      <td>0</td>\n",
       "      <td>9357.052301</td>\n",
       "      <td>320.947699</td>\n",
       "      <td>9678</td>\n",
       "      <td>0.0</td>\n",
       "      <td>0.540386</td>\n",
       "      <td>0.034300</td>\n",
       "      <td>True</td>\n",
       "    </tr>\n",
       "    <tr>\n",
       "      <th>2</th>\n",
       "      <td>South Africa</td>\n",
       "      <td>South Africa</td>\n",
       "      <td>SA</td>\n",
       "      <td>0</td>\n",
       "      <td>12-01-2020</td>\n",
       "      <td>18-01-2020</td>\n",
       "      <td>7</td>\n",
       "      <td>2020</td>\n",
       "      <td>3</td>\n",
       "      <td>59392255</td>\n",
       "      <td>9254</td>\n",
       "      <td>0</td>\n",
       "      <td>9104.218968</td>\n",
       "      <td>149.781032</td>\n",
       "      <td>9254</td>\n",
       "      <td>0.0</td>\n",
       "      <td>0.252190</td>\n",
       "      <td>0.016452</td>\n",
       "      <td>True</td>\n",
       "    </tr>\n",
       "    <tr>\n",
       "      <th>3</th>\n",
       "      <td>South Africa</td>\n",
       "      <td>South Africa</td>\n",
       "      <td>SA</td>\n",
       "      <td>0</td>\n",
       "      <td>19-01-2020</td>\n",
       "      <td>25-01-2020</td>\n",
       "      <td>7</td>\n",
       "      <td>2020</td>\n",
       "      <td>4</td>\n",
       "      <td>59392255</td>\n",
       "      <td>8626</td>\n",
       "      <td>0</td>\n",
       "      <td>8877.385635</td>\n",
       "      <td>-251.385635</td>\n",
       "      <td>8626</td>\n",
       "      <td>0.0</td>\n",
       "      <td>-0.423263</td>\n",
       "      <td>-0.028318</td>\n",
       "      <td>True</td>\n",
       "    </tr>\n",
       "    <tr>\n",
       "      <th>4</th>\n",
       "      <td>South Africa</td>\n",
       "      <td>South Africa</td>\n",
       "      <td>SA</td>\n",
       "      <td>0</td>\n",
       "      <td>26-01-2020</td>\n",
       "      <td>01-02-2020</td>\n",
       "      <td>7</td>\n",
       "      <td>2020</td>\n",
       "      <td>5</td>\n",
       "      <td>59392255</td>\n",
       "      <td>9417</td>\n",
       "      <td>0</td>\n",
       "      <td>9281.552301</td>\n",
       "      <td>135.447699</td>\n",
       "      <td>9417</td>\n",
       "      <td>0.0</td>\n",
       "      <td>0.228056</td>\n",
       "      <td>0.014593</td>\n",
       "      <td>True</td>\n",
       "    </tr>\n",
       "  </tbody>\n",
       "</table>\n",
       "</div>"
      ],
      "text/plain": [
       "        country        region reg  region_code  start_date    end_date  days  \\\n",
       "0  South Africa  South Africa  SA            0  29-12-2019  04-01-2020     7   \n",
       "1  South Africa  South Africa  SA            0  05-01-2020  11-01-2020     7   \n",
       "2  South Africa  South Africa  SA            0  12-01-2020  18-01-2020     7   \n",
       "3  South Africa  South Africa  SA            0  19-01-2020  25-01-2020     7   \n",
       "4  South Africa  South Africa  SA            0  26-01-2020  01-02-2020     7   \n",
       "\n",
       "   year  week  population  total_deaths  covid_deaths  expected_deaths  \\\n",
       "0  2020     1    59392255         10456             0     10253.718970   \n",
       "1  2020     2    59392255          9678             0      9357.052301   \n",
       "2  2020     3    59392255          9254             0      9104.218968   \n",
       "3  2020     4    59392255          8626             0      8877.385635   \n",
       "4  2020     5    59392255          9417             0      9281.552301   \n",
       "\n",
       "   excess_deaths  non_covid_deaths  covid_deaths_per_100k  \\\n",
       "0     202.281032             10456                    0.0   \n",
       "1     320.947699              9678                    0.0   \n",
       "2     149.781032              9254                    0.0   \n",
       "3    -251.385635              8626                    0.0   \n",
       "4     135.447699              9417                    0.0   \n",
       "\n",
       "   excess_deaths_per_100k  excess_deaths_pct_change  TARGET  \n",
       "0                0.340585                  0.019728    True  \n",
       "1                0.540386                  0.034300    True  \n",
       "2                0.252190                  0.016452    True  \n",
       "3               -0.423263                 -0.028318    True  \n",
       "4                0.228056                  0.014593    True  "
      ]
     },
     "execution_count": 26,
     "metadata": {},
     "output_type": "execute_result"
    }
   ],
   "source": [
    "df.head()"
   ]
  },
  {
   "cell_type": "code",
   "execution_count": 27,
   "id": "67116ba9",
   "metadata": {},
   "outputs": [
    {
     "data": {
      "text/plain": [
       "9678     2\n",
       "6161     2\n",
       "5706     2\n",
       "5437     2\n",
       "5943     2\n",
       "        ..\n",
       "14703    1\n",
       "13684    1\n",
       "12174    1\n",
       "11796    1\n",
       "6968     1\n",
       "Name: total_deaths, Length: 249, dtype: int64"
      ]
     },
     "execution_count": 27,
     "metadata": {},
     "output_type": "execute_result"
    }
   ],
   "source": [
    "df['total_deaths'].value_counts()"
   ]
  },
  {
   "cell_type": "code",
   "execution_count": 28,
   "id": "491bb8bd",
   "metadata": {},
   "outputs": [],
   "source": [
    "label_encode= LabelEncoder()"
   ]
  },
  {
   "cell_type": "code",
   "execution_count": 29,
   "id": "6cf97187",
   "metadata": {},
   "outputs": [],
   "source": [
    "labels = label_encode.fit_transform(df.total_deaths)"
   ]
  },
  {
   "cell_type": "code",
   "execution_count": 30,
   "id": "9584cf61",
   "metadata": {},
   "outputs": [],
   "source": [
    "df['TARGET']=labels"
   ]
  },
  {
   "cell_type": "code",
   "execution_count": 31,
   "id": "30e138f3",
   "metadata": {},
   "outputs": [
    {
     "data": {
      "text/html": [
       "<div>\n",
       "<style scoped>\n",
       "    .dataframe tbody tr th:only-of-type {\n",
       "        vertical-align: middle;\n",
       "    }\n",
       "\n",
       "    .dataframe tbody tr th {\n",
       "        vertical-align: top;\n",
       "    }\n",
       "\n",
       "    .dataframe thead th {\n",
       "        text-align: right;\n",
       "    }\n",
       "</style>\n",
       "<table border=\"1\" class=\"dataframe\">\n",
       "  <thead>\n",
       "    <tr style=\"text-align: right;\">\n",
       "      <th></th>\n",
       "      <th>country</th>\n",
       "      <th>region</th>\n",
       "      <th>reg</th>\n",
       "      <th>region_code</th>\n",
       "      <th>start_date</th>\n",
       "      <th>end_date</th>\n",
       "      <th>days</th>\n",
       "      <th>year</th>\n",
       "      <th>week</th>\n",
       "      <th>population</th>\n",
       "      <th>total_deaths</th>\n",
       "      <th>covid_deaths</th>\n",
       "      <th>expected_deaths</th>\n",
       "      <th>excess_deaths</th>\n",
       "      <th>non_covid_deaths</th>\n",
       "      <th>covid_deaths_per_100k</th>\n",
       "      <th>excess_deaths_per_100k</th>\n",
       "      <th>excess_deaths_pct_change</th>\n",
       "      <th>TARGET</th>\n",
       "    </tr>\n",
       "  </thead>\n",
       "  <tbody>\n",
       "    <tr>\n",
       "      <th>0</th>\n",
       "      <td>South Africa</td>\n",
       "      <td>South Africa</td>\n",
       "      <td>SA</td>\n",
       "      <td>0</td>\n",
       "      <td>29-12-2019</td>\n",
       "      <td>04-01-2020</td>\n",
       "      <td>7</td>\n",
       "      <td>2020</td>\n",
       "      <td>1</td>\n",
       "      <td>59392255</td>\n",
       "      <td>10456</td>\n",
       "      <td>0</td>\n",
       "      <td>10253.718970</td>\n",
       "      <td>202.281032</td>\n",
       "      <td>10456</td>\n",
       "      <td>0.0</td>\n",
       "      <td>0.340585</td>\n",
       "      <td>0.019728</td>\n",
       "      <td>161</td>\n",
       "    </tr>\n",
       "    <tr>\n",
       "      <th>1</th>\n",
       "      <td>South Africa</td>\n",
       "      <td>South Africa</td>\n",
       "      <td>SA</td>\n",
       "      <td>0</td>\n",
       "      <td>05-01-2020</td>\n",
       "      <td>11-01-2020</td>\n",
       "      <td>7</td>\n",
       "      <td>2020</td>\n",
       "      <td>2</td>\n",
       "      <td>59392255</td>\n",
       "      <td>9678</td>\n",
       "      <td>0</td>\n",
       "      <td>9357.052301</td>\n",
       "      <td>320.947699</td>\n",
       "      <td>9678</td>\n",
       "      <td>0.0</td>\n",
       "      <td>0.540386</td>\n",
       "      <td>0.034300</td>\n",
       "      <td>133</td>\n",
       "    </tr>\n",
       "    <tr>\n",
       "      <th>2</th>\n",
       "      <td>South Africa</td>\n",
       "      <td>South Africa</td>\n",
       "      <td>SA</td>\n",
       "      <td>0</td>\n",
       "      <td>12-01-2020</td>\n",
       "      <td>18-01-2020</td>\n",
       "      <td>7</td>\n",
       "      <td>2020</td>\n",
       "      <td>3</td>\n",
       "      <td>59392255</td>\n",
       "      <td>9254</td>\n",
       "      <td>0</td>\n",
       "      <td>9104.218968</td>\n",
       "      <td>149.781032</td>\n",
       "      <td>9254</td>\n",
       "      <td>0.0</td>\n",
       "      <td>0.252190</td>\n",
       "      <td>0.016452</td>\n",
       "      <td>124</td>\n",
       "    </tr>\n",
       "    <tr>\n",
       "      <th>3</th>\n",
       "      <td>South Africa</td>\n",
       "      <td>South Africa</td>\n",
       "      <td>SA</td>\n",
       "      <td>0</td>\n",
       "      <td>19-01-2020</td>\n",
       "      <td>25-01-2020</td>\n",
       "      <td>7</td>\n",
       "      <td>2020</td>\n",
       "      <td>4</td>\n",
       "      <td>59392255</td>\n",
       "      <td>8626</td>\n",
       "      <td>0</td>\n",
       "      <td>8877.385635</td>\n",
       "      <td>-251.385635</td>\n",
       "      <td>8626</td>\n",
       "      <td>0.0</td>\n",
       "      <td>-0.423263</td>\n",
       "      <td>-0.028318</td>\n",
       "      <td>114</td>\n",
       "    </tr>\n",
       "    <tr>\n",
       "      <th>4</th>\n",
       "      <td>South Africa</td>\n",
       "      <td>South Africa</td>\n",
       "      <td>SA</td>\n",
       "      <td>0</td>\n",
       "      <td>26-01-2020</td>\n",
       "      <td>01-02-2020</td>\n",
       "      <td>7</td>\n",
       "      <td>2020</td>\n",
       "      <td>5</td>\n",
       "      <td>59392255</td>\n",
       "      <td>9417</td>\n",
       "      <td>0</td>\n",
       "      <td>9281.552301</td>\n",
       "      <td>135.447699</td>\n",
       "      <td>9417</td>\n",
       "      <td>0.0</td>\n",
       "      <td>0.228056</td>\n",
       "      <td>0.014593</td>\n",
       "      <td>129</td>\n",
       "    </tr>\n",
       "  </tbody>\n",
       "</table>\n",
       "</div>"
      ],
      "text/plain": [
       "        country        region reg  region_code  start_date    end_date  days  \\\n",
       "0  South Africa  South Africa  SA            0  29-12-2019  04-01-2020     7   \n",
       "1  South Africa  South Africa  SA            0  05-01-2020  11-01-2020     7   \n",
       "2  South Africa  South Africa  SA            0  12-01-2020  18-01-2020     7   \n",
       "3  South Africa  South Africa  SA            0  19-01-2020  25-01-2020     7   \n",
       "4  South Africa  South Africa  SA            0  26-01-2020  01-02-2020     7   \n",
       "\n",
       "   year  week  population  total_deaths  covid_deaths  expected_deaths  \\\n",
       "0  2020     1    59392255         10456             0     10253.718970   \n",
       "1  2020     2    59392255          9678             0      9357.052301   \n",
       "2  2020     3    59392255          9254             0      9104.218968   \n",
       "3  2020     4    59392255          8626             0      8877.385635   \n",
       "4  2020     5    59392255          9417             0      9281.552301   \n",
       "\n",
       "   excess_deaths  non_covid_deaths  covid_deaths_per_100k  \\\n",
       "0     202.281032             10456                    0.0   \n",
       "1     320.947699              9678                    0.0   \n",
       "2     149.781032              9254                    0.0   \n",
       "3    -251.385635              8626                    0.0   \n",
       "4     135.447699              9417                    0.0   \n",
       "\n",
       "   excess_deaths_per_100k  excess_deaths_pct_change  TARGET  \n",
       "0                0.340585                  0.019728     161  \n",
       "1                0.540386                  0.034300     133  \n",
       "2                0.252190                  0.016452     124  \n",
       "3               -0.423263                 -0.028318     114  \n",
       "4                0.228056                  0.014593     129  "
      ]
     },
     "execution_count": 31,
     "metadata": {},
     "output_type": "execute_result"
    }
   ],
   "source": [
    "df.head()"
   ]
  },
  {
   "cell_type": "code",
   "execution_count": 32,
   "id": "ed1b747e",
   "metadata": {},
   "outputs": [],
   "source": [
    "import sklearn.datasets\n",
    "from sklearn.preprocessing import StandardScaler\n",
    "from sklearn.model_selection import train_test_split\n",
    "from sklearn.preprocessing import MinMaxScaler\n",
    "from sklearn import svm\n",
    "from sklearn.metrics import accuracy_score"
   ]
  },
  {
   "cell_type": "code",
   "execution_count": 33,
   "id": "79ead47e",
   "metadata": {},
   "outputs": [
    {
     "name": "stdout",
     "output_type": "stream",
     "text": [
      "          country        region reg  region_code  start_date    end_date  \\\n",
      "0    South Africa  South Africa  SA            0  29-12-2019  04-01-2020   \n",
      "1    South Africa  South Africa  SA            0  05-01-2020  11-01-2020   \n",
      "2    South Africa  South Africa  SA            0  12-01-2020  18-01-2020   \n",
      "3    South Africa  South Africa  SA            0  19-01-2020  25-01-2020   \n",
      "4    South Africa  South Africa  SA            0  26-01-2020  01-02-2020   \n",
      "..            ...           ...  ..          ...         ...         ...   \n",
      "249   South Korea   South Korea  SK            0  28-03-2022  03-04-2022   \n",
      "250   South Korea   South Korea  SK            0  04-04-2022  10-04-2022   \n",
      "251   South Korea   South Korea  SK            0  11-04-2022  17-04-2022   \n",
      "252   South Korea   South Korea  SK            0  18-04-2022  24-04-2022   \n",
      "253   South Korea   South Korea  SK            0  25-04-2022  01-05-2022   \n",
      "\n",
      "     days  year  week  population  total_deaths  covid_deaths  \\\n",
      "0       7  2020     1    59392255         10456             0   \n",
      "1       7  2020     2    59392255          9678             0   \n",
      "2       7  2020     3    59392255          9254             0   \n",
      "3       7  2020     4    59392255          8626             0   \n",
      "4       7  2020     5    59392255          9417             0   \n",
      "..    ...   ...   ...         ...           ...           ...   \n",
      "249     7  2022    13    51830139         10187          2267   \n",
      "250     7  2022    14    51830139          9540          2226   \n",
      "251     7  2022    15    51830139          8757          1545   \n",
      "252     7  2022    16    51830139          7760          1019   \n",
      "253     7  2022    17    51830139          6968           715   \n",
      "\n",
      "     expected_deaths  excess_deaths  non_covid_deaths  covid_deaths_per_100k  \\\n",
      "0       10253.718970     202.281032             10456               0.000000   \n",
      "1        9357.052301     320.947699              9678               0.000000   \n",
      "2        9104.218968     149.781032              9254               0.000000   \n",
      "3        8877.385635    -251.385635              8626               0.000000   \n",
      "4        9281.552301     135.447699              9417               0.000000   \n",
      "..               ...            ...               ...                    ...   \n",
      "249      6145.903090    4041.096910              7920               4.373903   \n",
      "250      6152.303090    3387.696910              7314               4.294798   \n",
      "251      5998.503090    2758.496910              7212               2.980891   \n",
      "252      6068.103090    1691.896910              6741               1.966038   \n",
      "253      5916.303090    1051.696910              6253               1.379506   \n",
      "\n",
      "     excess_deaths_per_100k  excess_deaths_pct_change  TARGET  \n",
      "0                  0.340585                  0.019728     161  \n",
      "1                  0.540386                  0.034300     133  \n",
      "2                  0.252190                  0.016452     124  \n",
      "3                 -0.423263                 -0.028318     114  \n",
      "4                  0.228056                  0.014593     129  \n",
      "..                      ...                       ...     ...  \n",
      "249                7.796809                  0.657527     151  \n",
      "250                6.536152                  0.550639     130  \n",
      "251                5.322187                  0.459864     115  \n",
      "252                3.264311                  0.278818     109  \n",
      "253                2.029122                  0.177763     102  \n",
      "\n",
      "[254 rows x 19 columns]\n"
     ]
    }
   ],
   "source": [
    "print(df)"
   ]
  },
  {
   "cell_type": "code",
   "execution_count": 34,
   "id": "83da9454",
   "metadata": {},
   "outputs": [],
   "source": [
    "X=df[['week','total_deaths']]\n",
    "y=df['TARGET']\n",
    "X_train,X_test,y_train,y_test = train_test_split(X,y,test_size=0.2,random_state=27)\n",
    "norm=MinMaxScaler().fit(X_train)"
   ]
  },
  {
   "cell_type": "code",
   "execution_count": 35,
   "id": "3de87434",
   "metadata": {},
   "outputs": [],
   "source": [
    "scaler=StandardScaler()\n",
    "scaler.fit(X_train)\n",
    "StandardScaler(copy=True,with_mean=True,with_std=True)\n",
    "X_train_standardized=scaler.transform(X_train)\n",
    "X_test_standardized=scaler.transform(X_test)\n",
    "classifier=svm.SVC(kernel='linear')\n"
   ]
  },
  {
   "cell_type": "code",
   "execution_count": 36,
   "id": "b02155b7",
   "metadata": {},
   "outputs": [
    {
     "data": {
      "text/plain": [
       "SVC(kernel='linear')"
      ]
     },
     "execution_count": 36,
     "metadata": {},
     "output_type": "execute_result"
    }
   ],
   "source": [
    "classifier.fit(X_train,y_train)"
   ]
  },
  {
   "cell_type": "code",
   "execution_count": 37,
   "id": "7617e633",
   "metadata": {},
   "outputs": [],
   "source": [
    "x_train_pred=classifier.predict(X_train)\n",
    "readaccuracy=accuracy_score(x_train_pred,y_train)\n",
    "x_test_pred=classifier.predict(X_test)\n",
    "textaccuracy=accuracy_score(x_test_pred,y_test)"
   ]
  },
  {
   "cell_type": "code",
   "execution_count": 38,
   "id": "9cc5a2b5",
   "metadata": {},
   "outputs": [
    {
     "name": "stdout",
     "output_type": "stream",
     "text": [
      "accuracy of the trained data is: 1.0\n"
     ]
    }
   ],
   "source": [
    "print(\"accuracy of the trained data is:\",readaccuracy)"
   ]
  },
  {
   "cell_type": "code",
   "execution_count": 39,
   "id": "740f152d",
   "metadata": {},
   "outputs": [
    {
     "name": "stdout",
     "output_type": "stream",
     "text": [
      "Accuracy of the tested data is: 0.0196078431372549\n"
     ]
    }
   ],
   "source": [
    "print(\"Accuracy of the tested data is:\",textaccuracy)"
   ]
  },
  {
   "cell_type": "code",
   "execution_count": 40,
   "id": "1d13da69",
   "metadata": {},
   "outputs": [],
   "source": [
    "import numpy as np\n",
    "input_data=(7,8.6)\n",
    "input_data_as_ndarray=np.asarray(input_data)\n",
    "input_data_reshaped=input_data_as_ndarray.reshape(1,-1)"
   ]
  },
  {
   "cell_type": "code",
   "execution_count": 41,
   "id": "c8d381c2",
   "metadata": {},
   "outputs": [
    {
     "name": "stdout",
     "output_type": "stream",
     "text": [
      "[[-1.14677025 -2.49771474]]\n"
     ]
    }
   ],
   "source": [
    "std_data=scaler.transform(input_data_reshaped)\n",
    "print(std_data)\n"
   ]
  },
  {
   "cell_type": "code",
   "execution_count": 42,
   "id": "2137e924",
   "metadata": {},
   "outputs": [
    {
     "name": "stdout",
     "output_type": "stream",
     "text": [
      "south korea as highest death\n"
     ]
    }
   ],
   "source": [
    "prediction=classifier.predict(std_data)\n",
    "if(prediction[0]==True):\n",
    "    print(\"South korea as highest death!\")\n",
    "else:\n",
    "    print(\"south korea as highest death\")"
   ]
  }
 ],
 "metadata": {
  "kernelspec": {
   "display_name": "Python 3 (ipykernel)",
   "language": "python",
   "name": "python3"
  },
  "language_info": {
   "codemirror_mode": {
    "name": "ipython",
    "version": 3
   },
   "file_extension": ".py",
   "mimetype": "text/x-python",
   "name": "python",
   "nbconvert_exporter": "python",
   "pygments_lexer": "ipython3",
   "version": "3.9.12"
  }
 },
 "nbformat": 4,
 "nbformat_minor": 5
}
